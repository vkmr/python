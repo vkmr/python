{
 "cells": [
  {
   "cell_type": "markdown",
   "metadata": {},
   "source": [
    "### Problem Statement\n",
    "A tweet is a string that is between 1 and 280 characters long (inclusive). A username is a string of letters and/or digits that is between 1 and 14 characters long (inclusive). A username is mentioned in a tweet by including @username in the tweet. A retweet is way to share another user's tweet, and can be identified by the string RT, followed by the original username who tweeted it.\n",
    "\n",
    "Your job is to fill in the function *count_retweets_by_username* so that it returns a frequency dictionary that indicates how many times each retweeted username was retweeted."
   ]
  },
  {
   "cell_type": "code",
   "execution_count": 1,
   "metadata": {},
   "outputs": [],
   "source": [
    "tweets = [\"This is great! RT @fakeuser: Can you believe this?\",\n",
    "         \"It's the refs! RT @dubsfan: Boo the refs and stuff wargarbal\",\n",
    "         \"That's right RT @ladodgers: The dodgers are destined to win the west!\",\n",
    "         \"RT @sportball: That sporting event was not cool\",\n",
    "         \"This is just a tweet about things @person, how could you\",\n",
    "         \"RT @ladodgers: The season is looking great!\",\n",
    "         \"RT @dubsfan: I can't believe it!\",\n",
    "         \"I can't believe it either! RT @dubsfan: I can't believe it\"]"
   ]
  },
  {
   "cell_type": "code",
   "execution_count": 2,
   "metadata": {},
   "outputs": [],
   "source": [
    "def count_retweets_by_username(tweet_list):\n",
    "    \"\"\" (list of tweets) -> dict of {username: int}\n",
    "    Returns a dictionary in which each key is a username that was \n",
    "    retweeted in tweet_list and each value is the total number of times this \n",
    "    username was retweeted.\n",
    "    \"\"\"\n",
    "    \n",
    "    Dict = {}\n",
    "    \n",
    "    for tweet in tweet_list:\n",
    "        if len(tweet) >= 1 and len(tweet) <= 280: # checking length of tweet\n",
    "            split_list = tweet.split()\n",
    "            for i in range(len(split_list)-1): # handling scenario when a tweet ends with just RT\n",
    "                if split_list[i] == \"RT\":\n",
    "                    tempUsername = split_list[i+1]\n",
    "                    if tempUsername[:1] == '@': # checking if RT is followed by a @username in the tweet\n",
    "                        userName = tempUsername[1:-1]\n",
    "                        if len(userName) >= 1 and len(userName) <= 14: # checking length of username\n",
    "                            if userName in Dict:\n",
    "                                countRetweet = Dict.get(userName)\n",
    "                                countRetweet += 1\n",
    "                            else:\n",
    "                                countRetweet = 1\n",
    "                            Dict.update({userName: countRetweet})\n",
    "                            break\n",
    "                        else:\n",
    "                            print(\"Invalid UserLength!\")\n",
    "        else:\n",
    "            print(\"Invalid TweetLength!\")\n",
    "                \n",
    "    return Dict\n"
   ]
  },
  {
   "cell_type": "code",
   "execution_count": 3,
   "metadata": {},
   "outputs": [
    {
     "name": "stdout",
     "output_type": "stream",
     "text": [
      "{'fakeuser': 1, 'dubsfan': 3, 'ladodgers': 2, 'sportball': 1}\n"
     ]
    }
   ],
   "source": [
    "print(count_retweets_by_username(tweets))"
   ]
  },
  {
   "cell_type": "code",
   "execution_count": null,
   "metadata": {},
   "outputs": [],
   "source": []
  }
 ],
 "metadata": {
  "kernelspec": {
   "display_name": "Python 3",
   "language": "python",
   "name": "python3"
  },
  "language_info": {
   "codemirror_mode": {
    "name": "ipython",
    "version": 3
   },
   "file_extension": ".py",
   "mimetype": "text/x-python",
   "name": "python",
   "nbconvert_exporter": "python",
   "pygments_lexer": "ipython3",
   "version": "3.6.9"
  }
 },
 "nbformat": 4,
 "nbformat_minor": 2
}

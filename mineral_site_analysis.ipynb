{
 "cells": [
  {
   "cell_type": "markdown",
   "metadata": {},
   "source": [
    "### Problem statement\n",
    "\n",
    "A mining company conducts a survey of an n-by-n square grid of land.  Each row of land is numbered from 0 to n-1 where 0 is the top and n-1 is the bottom, and each column is also numbered from 0 to n-1 where 0 is the left and n-1 is the right.  The company wishes to record which squares of this grid contain mineral deposits.\n",
    "\n",
    "The company decides to use a list of tuples to store the location of each deposit.  The first item in each tuple is the row of the deposit.  The second item is the column.  The third item is a non-negative number representing the size of the deposit, in tons.  For example, the following code defines a sample representation of a set of deposits in an 8-by-8 grid."
   ]
  },
  {
   "cell_type": "code",
   "execution_count": 1,
   "metadata": {},
   "outputs": [],
   "source": [
    "deposits = [(0, 4, .3), (6, 2, 3), (3, 7, 2.2), (5, 5, .5), (3, 5, .8), (7, 7, .3)]"
   ]
  },
  {
   "cell_type": "markdown",
   "metadata": {},
   "source": [
    "#### 1. \n",
    "Given a list of deposits like the one above, write a function to create a string representation for a rectangular sub-region of the land.  Your function should take a list of deposits, then a set of parameters denoting the top, bottom, left, and right edges of the sub-grid.  It should return a multi-line string in which grid squares without deposits are represented by \"-\" and grid squares with a deposit are represented by \"X\"."
   ]
  },
  {
   "cell_type": "code",
   "execution_count": 2,
   "metadata": {},
   "outputs": [],
   "source": [
    "def display(deposits, top, bottom, left, right):\n",
    "    \"\"\"display a subgrid of the land, with rows starting at top and up to \n",
    "    but not including bottom, and columns starting at left and up to but\n",
    "    not including right.\"\"\"\n",
    "    \n",
    "    # First, Check for invalid parameters\n",
    "    if top < 0 or bottom < 0 or left < 0 or right < 0 or top >= bottom or left >= right:\n",
    "        ans = 'Invalid paramters of rectangular sub-region'\n",
    "    else:\n",
    "        # Valid Parameters here\n",
    "        # creates a list to represent subgrid of the land\n",
    "        gridList = ['-'* (right-left) for row in range(bottom-top)] \n",
    "        for deposit in deposits:\n",
    "            if deposit[0] >= top and deposit[0] < bottom: # check if the deposit is part of the subgrid row\n",
    "                rowList = list(gridList[deposit[0]-top]) \n",
    "                if deposit[1] >= left and deposit[1] < right: # check if the deposit is part of the subgrid column\n",
    "                    rowList[deposit[1]-left] = 'X' # Replacing \"-\" with \"X\" for squares with deposit\n",
    "                    gridList[deposit[0]-top] = ''.join(rowList)\n",
    "        ans = '\\n'.join(gridList)\n",
    "    return ans\n"
   ]
  },
  {
   "cell_type": "code",
   "execution_count": 3,
   "metadata": {},
   "outputs": [
    {
     "name": "stdout",
     "output_type": "stream",
     "text": [
      "----X---\n",
      "--------\n",
      "--------\n",
      "-----X-X\n",
      "--------\n",
      "-----X--\n",
      "--X-----\n",
      "-------X\n"
     ]
    }
   ],
   "source": [
    "print(display(deposits, 0, 8, 0, 8))"
   ]
  },
  {
   "cell_type": "code",
   "execution_count": 4,
   "metadata": {},
   "outputs": [
    {
     "name": "stdout",
     "output_type": "stream",
     "text": [
      "X--\n",
      "---\n",
      "--X\n"
     ]
    }
   ],
   "source": [
    "print(display(deposits, 5, 8, 5, 8))\n"
   ]
  },
  {
   "cell_type": "markdown",
   "metadata": {},
   "source": [
    "#### 2.\n",
    "Next, complete the following function to compute the total number of tons in a rectangular sub-region of the grid."
   ]
  },
  {
   "cell_type": "code",
   "execution_count": 5,
   "metadata": {},
   "outputs": [],
   "source": [
    "def tons_inside(deposits, top, bottom, left, right):\n",
    "    \"\"\"Returns the total number of tons of deposits for which the row is at least top,\n",
    "    but strictly less than bottom, and the column is at least left, but strictly\n",
    "    less than right.\"\"\"\n",
    "\n",
    "    # First, Check for Valid Parameters\n",
    "    if top < 0 or bottom < 0 or left < 0 or right < 0 or top >= bottom or left >= right:\n",
    "        totalTons = 'Invalid paramters of rectangular sub-region'\n",
    "    else:\n",
    "        # Paramters are valid\n",
    "        totalTons = 0\n",
    "        for deposit in deposits:\n",
    "            if deposit[0] >= top and deposit[0] < bottom:\n",
    "                if deposit[1] >= left and deposit[1] < right:\n",
    "                    totalTons += deposit[2] # sum over tons of deposit\n",
    "        \n",
    "    return totalTons\n"
   ]
  },
  {
   "cell_type": "code",
   "execution_count": 6,
   "metadata": {},
   "outputs": [
    {
     "name": "stdout",
     "output_type": "stream",
     "text": [
      "0.8\n"
     ]
    }
   ],
   "source": [
    "print(tons_inside(deposits, 5, 8, 5, 8))"
   ]
  },
  {
   "cell_type": "code",
   "execution_count": null,
   "metadata": {},
   "outputs": [],
   "source": []
  }
 ],
 "metadata": {
  "kernelspec": {
   "display_name": "Python 3",
   "language": "python",
   "name": "python3"
  },
  "language_info": {
   "codemirror_mode": {
    "name": "ipython",
    "version": 3
   },
   "file_extension": ".py",
   "mimetype": "text/x-python",
   "name": "python",
   "nbconvert_exporter": "python",
   "pygments_lexer": "ipython3",
   "version": "3.6.9"
  }
 },
 "nbformat": 4,
 "nbformat_minor": 2
}
